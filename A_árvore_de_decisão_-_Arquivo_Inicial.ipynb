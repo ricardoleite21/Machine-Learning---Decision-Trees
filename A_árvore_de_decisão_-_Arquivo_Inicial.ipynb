{
 "cells": [
  {
   "cell_type": "markdown",
   "id": "bcad7a89",
   "metadata": {},
   "source": [
    "# A árvore de decisão\n",
    "- **Uma árvore de decisão** é uma representação de um conjunto de regras criado para tomar qualquer decisão, nesse caso classificar um registro (para problemas de classificação) ou estimar um valor (para problemas de regressão)\n",
    "- Para cada pergunta da árvore, vamos responder \"SIM\" ou \"NÃO\" e essas respostas vão nos guiar até a decisão final. Cada uma dessas perguntas são chamadas de **nós de decisão** (sendo o primeiro nó chamado de **nó raiz*) e a decisão que vamos tomar é chamado de **nó folha**\n",
    "<br><br>\n",
    "<img src=\"https://drive.google.com/uc?id=1N_QBc2uvBp9KyOBDXPfqRFgqphTCwxpV\" style=\"width: 300px;\"/>"
   ]
  },
  {
   "cell_type": "markdown",
   "id": "3a6308c7",
   "metadata": {},
   "source": [
    "- Em uma base com os seguintes dados, podemos criar essas regras através da divisão da nossa base\n",
    "<img src=\"https://drive.google.com/uc?id=1JNrw8BFbP4y6rhmLkyLLsnLtq8Oez5pP\" style=\"width: 900px;\"/>"
   ]
  },
  {
   "cell_type": "markdown",
   "id": "809a27e0",
   "metadata": {},
   "source": [
    "- Para o dataset iris, temos a seguinte árvore:\n",
    "<img src=\"https://drive.google.com/uc?id=1yooz7D92LRUoj6wnJTTPNNzbQlbf-LsL\" style=\"width: 800px;\"/>"
   ]
  },
  {
   "cell_type": "markdown",
   "id": "d77db743",
   "metadata": {},
   "source": [
    "- A árvore de decisão é uma representação, uma estrutura, e somente a árvore não é Aprendizado de Máquinas. **O que é Machine Learning é a escolha dessas regras para a criação da árvore!**\n",
    "- Existem **diferentes algoritmos** usados para isso, como o ID3, C4.5, C5.0 e CART.\n",
    "    - https://scikit-learn.org/stable/modules/tree.html#tree-algorithms-id3-c4-5-c5-0-and-cart\n",
    "    - O **scikit-learn**, segundo a própria documentação, usa uma **versão otimizada do CART (Classification and Regression Trees)**\n",
    "        - Em resumo, a seleção dos nós é feita escolhendo qual recurso e limite vai **tornar os próximos passos o mais homogêneo possível**\n",
    "- Como podemos criar vários nós para a árvore, é um modelo que facilmente pode sofrer overfitting. **Quanto mais nós e folhas**, maior a complexidade da árvore e **menor sua capacidade de generalizar**"
   ]
  },
  {
   "cell_type": "markdown",
   "id": "a9e6043f",
   "metadata": {},
   "source": [
    "- **Utilizando o dataset iris**\n",
    "    - https://scikit-learn.org/stable/modules/generated/sklearn.datasets.load_iris.html#sklearn.datasets.load_iris"
   ]
  },
  {
   "cell_type": "code",
   "execution_count": null,
   "id": "aea31d4c",
   "metadata": {},
   "outputs": [],
   "source": [
    "# Importando o pandas"
   ]
  },
  {
   "cell_type": "code",
   "execution_count": null,
   "id": "4c469115",
   "metadata": {},
   "outputs": [],
   "source": [
    "# Importando o dataset iris"
   ]
  },
  {
   "cell_type": "code",
   "execution_count": null,
   "id": "f787ee56",
   "metadata": {},
   "outputs": [],
   "source": [
    "# Retornando os dados"
   ]
  },
  {
   "cell_type": "code",
   "execution_count": null,
   "id": "2a7ae944",
   "metadata": {},
   "outputs": [],
   "source": [
    "# Transformando em um DataFrame"
   ]
  },
  {
   "cell_type": "markdown",
   "id": "ba5f6eca",
   "metadata": {},
   "source": [
    "<a id='ajuste_base'></a>\n",
    "- **Começando apenas com o target 0 e 1 e apenas as colunas de pétala**"
   ]
  },
  {
   "cell_type": "code",
   "execution_count": null,
   "id": "3d68129f",
   "metadata": {},
   "outputs": [],
   "source": [
    "# Selecionando apenas as colunas de pétala e esses targets"
   ]
  },
  {
   "cell_type": "code",
   "execution_count": null,
   "id": "4ae5eaf3",
   "metadata": {},
   "outputs": [],
   "source": [
    "# Separando X e y"
   ]
  },
  {
   "cell_type": "markdown",
   "id": "c0243b10",
   "metadata": {},
   "source": [
    "- Vamos usar o train_test_split para separar em treino e teste\n",
    "    - https://scikit-learn.org/stable/modules/generated/sklearn.model_selection.train_test_split.html"
   ]
  },
  {
   "cell_type": "code",
   "execution_count": null,
   "id": "2f6ab45d",
   "metadata": {},
   "outputs": [],
   "source": [
    "# Fazendo o train_test_split"
   ]
  },
  {
   "cell_type": "markdown",
   "id": "742e068d",
   "metadata": {},
   "source": [
    "- **Podemos visualizar graficamente os dados de treino dessa base usando o matplotlib**\n",
    "    - https://matplotlib.org/stable/plot_types/basic/scatter_plot.html#sphx-glr-plot-types-basic-scatter-plot-py"
   ]
  },
  {
   "cell_type": "code",
   "execution_count": null,
   "id": "7646c862",
   "metadata": {},
   "outputs": [],
   "source": [
    "# Visualizando os dados de treino"
   ]
  },
  {
   "cell_type": "markdown",
   "id": "b0483ad5",
   "metadata": {},
   "source": [
    "- **E então usar a árvore de decisão para classificar esses dados**\n",
    "    - https://scikit-learn.org/stable/modules/tree.html"
   ]
  },
  {
   "cell_type": "code",
   "execution_count": null,
   "id": "4cf72e09",
   "metadata": {},
   "outputs": [],
   "source": [
    "# Importando a árvore de decisão"
   ]
  },
  {
   "cell_type": "code",
   "execution_count": null,
   "id": "4931ae33",
   "metadata": {},
   "outputs": [],
   "source": [
    "# Criando o classificador"
   ]
  },
  {
   "cell_type": "code",
   "execution_count": null,
   "id": "4e6b09a7",
   "metadata": {},
   "outputs": [],
   "source": [
    "# Fazendo o fit com os dados de treino"
   ]
  },
  {
   "cell_type": "code",
   "execution_count": null,
   "id": "7b6a410e",
   "metadata": {},
   "outputs": [],
   "source": [
    "# Verificando o score"
   ]
  },
  {
   "cell_type": "markdown",
   "id": "926b43b1",
   "metadata": {},
   "source": [
    "- Podemos exibir essa árvore\n",
    "    - https://scikit-learn.org/stable/modules/generated/sklearn.tree.plot_tree.html?highlight=plot_tree#sklearn.tree.plot_tree"
   ]
  },
  {
   "cell_type": "code",
   "execution_count": null,
   "id": "2dbfc3bc",
   "metadata": {},
   "outputs": [],
   "source": [
    "# Visualizando essa árvore"
   ]
  },
  {
   "cell_type": "code",
   "execution_count": null,
   "id": "b47d7b37",
   "metadata": {},
   "outputs": [],
   "source": [
    "# Podemos adicionar essas regras no nosso gráfico"
   ]
  },
  {
   "cell_type": "code",
   "execution_count": null,
   "id": "fd32d2c7",
   "metadata": {},
   "outputs": [],
   "source": [
    "# Fazendo a previsão e avaliando o erro"
   ]
  },
  {
   "cell_type": "code",
   "execution_count": null,
   "id": "1eb47d50",
   "metadata": {},
   "outputs": [],
   "source": [
    "# Visualizando esses dados de teste no gráfico acima"
   ]
  },
  {
   "cell_type": "markdown",
   "id": "459deec7",
   "metadata": {},
   "source": [
    "- **Podemos [voltar](#ajuste_base) no filtro que fizemos da base e agora considerar a todos os targets mas mantendo somente as 2 colunas de pétala**"
   ]
  },
  {
   "cell_type": "markdown",
   "id": "4bbd7e54",
   "metadata": {},
   "source": [
    "- **Podemos então fazer para toda a base**"
   ]
  },
  {
   "cell_type": "code",
   "execution_count": null,
   "id": "9f2d6c2f",
   "metadata": {},
   "outputs": [],
   "source": [
    "# Separando X e y da base completa"
   ]
  },
  {
   "cell_type": "code",
   "execution_count": null,
   "id": "03581f7d",
   "metadata": {},
   "outputs": [],
   "source": [
    "# Fazendo o train_test_split"
   ]
  },
  {
   "cell_type": "code",
   "execution_count": null,
   "id": "67aa2c5b",
   "metadata": {},
   "outputs": [],
   "source": [
    "# Criando o classificador e fazendo o fit"
   ]
  },
  {
   "cell_type": "code",
   "execution_count": null,
   "id": "dcacec94",
   "metadata": {},
   "outputs": [],
   "source": [
    "# Verificando o score"
   ]
  },
  {
   "cell_type": "code",
   "execution_count": null,
   "id": "2ef44671",
   "metadata": {},
   "outputs": [],
   "source": [
    "# Visualizando essa árvore"
   ]
  },
  {
   "cell_type": "code",
   "execution_count": null,
   "id": "77a01520",
   "metadata": {},
   "outputs": [],
   "source": [
    "# Fazendo a previsão"
   ]
  },
  {
   "cell_type": "code",
   "execution_count": null,
   "id": "a5c103a0",
   "metadata": {},
   "outputs": [],
   "source": [
    "# Avaliando o modelo"
   ]
  }
 ],
 "metadata": {
  "kernelspec": {
   "display_name": "Python 3 (ipykernel)",
   "language": "python",
   "name": "python3"
  },
  "language_info": {
   "codemirror_mode": {
    "name": "ipython",
    "version": 3
   },
   "file_extension": ".py",
   "mimetype": "text/x-python",
   "name": "python",
   "nbconvert_exporter": "python",
   "pygments_lexer": "ipython3",
   "version": "3.9.7"
  }
 },
 "nbformat": 4,
 "nbformat_minor": 5
}
